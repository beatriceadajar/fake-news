{
 "cells": [
  {
   "cell_type": "markdown",
   "metadata": {},
   "source": [
    "# Arrange Top Fake News by Order\n"
   ]
  },
  {
   "cell_type": "markdown",
   "metadata": {},
   "source": [
    "### Step 1: Import necessary libraries:"
   ]
  },
  {
   "cell_type": "code",
   "execution_count": 1,
   "metadata": {},
   "outputs": [],
   "source": [
    "import json\n",
    "import re"
   ]
  },
  {
   "cell_type": "markdown",
   "metadata": {},
   "source": [
    "### Step 2: Read the JSON data \n",
    "Reads from the result of the fb-scraper"
   ]
  },
  {
   "cell_type": "code",
   "execution_count": 2,
   "metadata": {},
   "outputs": [],
   "source": [
    "with open('data.json') as json_data:\n",
    "    data = json.load(json_data)"
   ]
  },
  {
   "cell_type": "markdown",
   "metadata": {},
   "source": [
    "<br \\ >\n",
    "Sample data:"
   ]
  },
  {
   "cell_type": "code",
   "execution_count": 3,
   "metadata": {},
   "outputs": [
    {
     "name": "stdout",
     "output_type": "stream",
     "text": [
      "{'name': 'Poor Old Man Accidentally Scratches Luxurious Car, Leaves Note That Touches Everyone’s Heart', 'created_time': '2017-12-24T20:29:19+0000', 'like': 52, 'love': 2, 'wow': 0, 'haha': 0, 'sad': 2, 'angry': 0, 'thankful': 0, 'total_reacts': 56, 'comments': 1, 'shares': 4, 'id': '979290192127575_1645818285474759', 'page_id': 'ClassifiedTrends'}\n"
     ]
    }
   ],
   "source": [
    "print(data[0])"
   ]
  },
  {
   "cell_type": "markdown",
   "metadata": {},
   "source": [
    "### Step 3: Calculate Score\n",
    "Score will be based on all the reactions, shares, and comments."
   ]
  },
  {
   "cell_type": "markdown",
   "metadata": {},
   "source": [
    "#### Sum total"
   ]
  },
  {
   "cell_type": "code",
   "execution_count": 4,
   "metadata": {},
   "outputs": [],
   "source": [
    "def calculate_score(json):\n",
    "    try:\n",
    "        return int(json['total_reacts']) + int(json['comments']) + int(json['shares']) \n",
    "    except KeyError:\n",
    "        return 0"
   ]
  },
  {
   "cell_type": "markdown",
   "metadata": {},
   "source": [
    "Sample score:"
   ]
  },
  {
   "cell_type": "code",
   "execution_count": 5,
   "metadata": {},
   "outputs": [
    {
     "data": {
      "text/plain": [
       "61"
      ]
     },
     "execution_count": 5,
     "metadata": {},
     "output_type": "execute_result"
    }
   ],
   "source": [
    "calculate_score(data[0])"
   ]
  },
  {
   "cell_type": "markdown",
   "metadata": {},
   "source": [
    "#### Alternate Scoring (with Weights)"
   ]
  },
  {
   "cell_type": "code",
   "execution_count": 6,
   "metadata": {},
   "outputs": [],
   "source": [
    "def calculate_weight_score(json):\n",
    "    try:\n",
    "        return int(json['like']) * 0.25 + (int(json['total_reacts']) - int(json['like'])) * 0.50 + int(json['comments']) * 0.75 + int(json['shares']) * 1.0 \n",
    "    except KeyError:\n",
    "        return 0"
   ]
  },
  {
   "cell_type": "markdown",
   "metadata": {},
   "source": [
    "Sample score:"
   ]
  },
  {
   "cell_type": "code",
   "execution_count": 7,
   "metadata": {
    "scrolled": false
   },
   "outputs": [
    {
     "data": {
      "text/plain": [
       "19.75"
      ]
     },
     "execution_count": 7,
     "metadata": {},
     "output_type": "execute_result"
    }
   ],
   "source": [
    "calculate_weight_score(data[0])"
   ]
  },
  {
   "cell_type": "markdown",
   "metadata": {},
   "source": [
    "_______________________\n",
    "# Getting the Top 5 Fake News\n"
   ]
  },
  {
   "cell_type": "markdown",
   "metadata": {},
   "source": [
    "### Method 1: Without Weights\n"
   ]
  },
  {
   "cell_type": "code",
   "execution_count": 8,
   "metadata": {},
   "outputs": [],
   "source": [
    "data.sort(key=calculate_score, reverse=True)"
   ]
  },
  {
   "cell_type": "code",
   "execution_count": 9,
   "metadata": {
    "scrolled": true
   },
   "outputs": [
    {
     "name": "stdout",
     "output_type": "stream",
     "text": [
      "{'name': 'Sharon Cuneta Offers to Buy All His Goods and Send this Adorable Vegetable Vendor to School after Photo Goes Viral', 'created_time': '2017-09-11T12:37:59+0000', 'message': \"Awwwwww! He's so cute! <3 \\n\\nIt's great that The Megastar is offering to buy his goods everyday and send him to school, right?\", 'like': 57830, 'love': 5788, 'wow': 1605, 'haha': 140, 'sad': 317, 'angry': 7, 'thankful': 0, 'total_reacts': 65687, 'comments': 894, 'shares': 3118, 'id': '106259116938_10155226380361939', 'page_id': 'i.am.filipino'}\n"
     ]
    }
   ],
   "source": [
    "print(data[0])"
   ]
  },
  {
   "cell_type": "code",
   "execution_count": 10,
   "metadata": {
    "scrolled": true
   },
   "outputs": [
    {
     "data": {
      "text/plain": [
       "69699"
      ]
     },
     "execution_count": 10,
     "metadata": {},
     "output_type": "execute_result"
    }
   ],
   "source": [
    "calculate_score(data[0])"
   ]
  },
  {
   "cell_type": "code",
   "execution_count": 11,
   "metadata": {},
   "outputs": [
    {
     "name": "stdout",
     "output_type": "stream",
     "text": [
      "{'name': 'Upon Learning He’s Going to Graduate, Son Honors Poor Dad for Supporting His Education Despite having a Disability!', 'created_time': '2017-02-27T07:59:28+0000', 'message': \"Despite being poor and having a disability, this dad worked hard to send his kids to college! His son comes back to honor him after learning he passed his course...\\nIsn't this wonderful?\", 'like': 38367, 'love': 5405, 'wow': 787, 'haha': 28, 'sad': 1345, 'angry': 6, 'thankful': 0, 'total_reacts': 45938, 'comments': 456, 'shares': 4680, 'id': '106259116938_10154602645651939', 'page_id': 'i.am.filipino'}\n"
     ]
    }
   ],
   "source": [
    "print(data[1])"
   ]
  },
  {
   "cell_type": "code",
   "execution_count": 12,
   "metadata": {
    "scrolled": true
   },
   "outputs": [
    {
     "data": {
      "text/plain": [
       "51074"
      ]
     },
     "execution_count": 12,
     "metadata": {},
     "output_type": "execute_result"
    }
   ],
   "source": [
    "calculate_score(data[1])"
   ]
  },
  {
   "cell_type": "code",
   "execution_count": 13,
   "metadata": {},
   "outputs": [
    {
     "name": "stdout",
     "output_type": "stream",
     "text": [
      "{'name': 'Yaya Graduates Cum Laude from College, Walks Stage with Her Proud Alaga While Boss Takes Pictures', 'created_time': '2017-05-27T08:22:36+0000', 'message': \"Her alaga is so proud of what she has achieved that he (now grown up) accompanied her on stage to receive her diploma and cum laude award... Isn't this sweet? \\n\\nCongratulations!\", 'like': 40147, 'love': 4296, 'wow': 3015, 'haha': 30, 'sad': 10, 'angry': 1, 'thankful': 1, 'total_reacts': 47500, 'comments': 287, 'shares': 2737, 'id': '106259116938_10154878952046939', 'page_id': 'i.am.filipino'}\n"
     ]
    }
   ],
   "source": [
    "print(data[2])"
   ]
  },
  {
   "cell_type": "code",
   "execution_count": 14,
   "metadata": {
    "scrolled": true
   },
   "outputs": [
    {
     "data": {
      "text/plain": [
       "50524"
      ]
     },
     "execution_count": 14,
     "metadata": {},
     "output_type": "execute_result"
    }
   ],
   "source": [
    "calculate_score(data[2])"
   ]
  },
  {
   "cell_type": "code",
   "execution_count": 15,
   "metadata": {},
   "outputs": [
    {
     "name": "stdout",
     "output_type": "stream",
     "text": [
      "{'name': 'Timeline Photos', 'created_time': '2017-06-24T02:42:28+0000', 'message': 'Anong tawag nyo sa prutas na ito?', 'like': 30878, 'love': 1444, 'wow': 662, 'haha': 188, 'sad': 12, 'angry': 5, 'thankful': 0, 'total_reacts': 33192, 'comments': 12911, 'shares': 2196, 'id': '106259116938_10154968637896939', 'page_id': 'i.am.filipino'}\n"
     ]
    }
   ],
   "source": [
    "print(data[3])"
   ]
  },
  {
   "cell_type": "code",
   "execution_count": 16,
   "metadata": {
    "scrolled": true
   },
   "outputs": [
    {
     "data": {
      "text/plain": [
       "48299"
      ]
     },
     "execution_count": 16,
     "metadata": {},
     "output_type": "execute_result"
    }
   ],
   "source": [
    "calculate_score(data[3])"
   ]
  },
  {
   "cell_type": "code",
   "execution_count": 17,
   "metadata": {},
   "outputs": [
    {
     "name": "stdout",
     "output_type": "stream",
     "text": [
      "{'name': 'Diligent Security Guard, Still on Duty Hours before He Graduates ‘Cum Laude’ from School He Guards', 'created_time': '2017-03-25T04:54:34+0000', 'message': \"Learn more about the inspiring story of this hardworking security guard who never missed a day at work (or school) and who had his own kids as study buddies on the way to graduating as cum laude...\\nIsn't he inspiring?\", 'like': 29366, 'love': 1957, 'wow': 1623, 'haha': 15, 'sad': 4, 'angry': 1, 'thankful': 0, 'total_reacts': 32966, 'comments': 240, 'shares': 1169, 'id': '106259116938_10154684004761939', 'page_id': 'i.am.filipino'}\n"
     ]
    }
   ],
   "source": [
    "print(data[4])"
   ]
  },
  {
   "cell_type": "code",
   "execution_count": 18,
   "metadata": {
    "scrolled": true
   },
   "outputs": [
    {
     "data": {
      "text/plain": [
       "34375"
      ]
     },
     "execution_count": 18,
     "metadata": {},
     "output_type": "execute_result"
    }
   ],
   "source": [
    "calculate_score(data[4])"
   ]
  },
  {
   "cell_type": "code",
   "execution_count": 19,
   "metadata": {},
   "outputs": [
    {
     "name": "stdout",
     "output_type": "stream",
     "text": [
      "{'name': 'Sinon “Rogelia” Loresca gets invited to a US talk show, posts emotional message to supporters', 'created_time': '2017-02-08T10:38:07+0000', 'message': 'The King of the catwalk  “Rogelia” in Eat Bulaga’s kalyeserye posted on Facebook an emotional message for his supporters for  the unexpected fame worldwide.  ^_^', 'like': 27593, 'love': 1655, 'wow': 1372, 'haha': 391, 'sad': 15, 'angry': 10, 'thankful': 0, 'total_reacts': 31036, 'comments': 438, 'shares': 795, 'id': '106259116938_10154522533286939', 'page_id': 'i.am.filipino'}\n"
     ]
    }
   ],
   "source": [
    "print(data[5])"
   ]
  },
  {
   "cell_type": "code",
   "execution_count": 20,
   "metadata": {
    "scrolled": true
   },
   "outputs": [
    {
     "data": {
      "text/plain": [
       "32269"
      ]
     },
     "execution_count": 20,
     "metadata": {},
     "output_type": "execute_result"
    }
   ],
   "source": [
    "calculate_score(data[5])"
   ]
  },
  {
   "cell_type": "code",
   "execution_count": 21,
   "metadata": {},
   "outputs": [],
   "source": [
    "with open('data_sorted.json', 'w') as f:\n",
    "    json.dump(data, f)  "
   ]
  },
  {
   "cell_type": "markdown",
   "metadata": {},
   "source": [
    "### Method 2: With Weights"
   ]
  },
  {
   "cell_type": "code",
   "execution_count": 22,
   "metadata": {},
   "outputs": [],
   "source": [
    "data.sort(key=calculate_weight_score, reverse=True)"
   ]
  },
  {
   "cell_type": "code",
   "execution_count": 23,
   "metadata": {
    "scrolled": true
   },
   "outputs": [
    {
     "name": "stdout",
     "output_type": "stream",
     "text": [
      "{'name': 'Sharon Cuneta Offers to Buy All His Goods and Send this Adorable Vegetable Vendor to School after Photo Goes Viral', 'created_time': '2017-09-11T12:37:59+0000', 'message': \"Awwwwww! He's so cute! <3 \\n\\nIt's great that The Megastar is offering to buy his goods everyday and send him to school, right?\", 'like': 57830, 'love': 5788, 'wow': 1605, 'haha': 140, 'sad': 317, 'angry': 7, 'thankful': 0, 'total_reacts': 65687, 'comments': 894, 'shares': 3118, 'id': '106259116938_10155226380361939', 'page_id': 'i.am.filipino'}\n"
     ]
    }
   ],
   "source": [
    "print(data[0])"
   ]
  },
  {
   "cell_type": "code",
   "execution_count": 24,
   "metadata": {
    "scrolled": true
   },
   "outputs": [
    {
     "data": {
      "text/plain": [
       "22174.5"
      ]
     },
     "execution_count": 24,
     "metadata": {},
     "output_type": "execute_result"
    }
   ],
   "source": [
    "calculate_weight_score(data[0])"
   ]
  },
  {
   "cell_type": "code",
   "execution_count": 25,
   "metadata": {},
   "outputs": [
    {
     "name": "stdout",
     "output_type": "stream",
     "text": [
      "{'name': 'Timeline Photos', 'created_time': '2017-06-24T02:42:28+0000', 'message': 'Anong tawag nyo sa prutas na ito?', 'like': 30878, 'love': 1444, 'wow': 662, 'haha': 188, 'sad': 12, 'angry': 5, 'thankful': 0, 'total_reacts': 33192, 'comments': 12911, 'shares': 2196, 'id': '106259116938_10154968637896939', 'page_id': 'i.am.filipino'}\n"
     ]
    }
   ],
   "source": [
    "print(data[1])"
   ]
  },
  {
   "cell_type": "code",
   "execution_count": 26,
   "metadata": {
    "scrolled": true
   },
   "outputs": [
    {
     "data": {
      "text/plain": [
       "20755.75"
      ]
     },
     "execution_count": 26,
     "metadata": {},
     "output_type": "execute_result"
    }
   ],
   "source": [
    "calculate_weight_score(data[1])"
   ]
  },
  {
   "cell_type": "code",
   "execution_count": 27,
   "metadata": {},
   "outputs": [
    {
     "name": "stdout",
     "output_type": "stream",
     "text": [
      "{'name': 'Upon Learning He’s Going to Graduate, Son Honors Poor Dad for Supporting His Education Despite having a Disability!', 'created_time': '2017-02-27T07:59:28+0000', 'message': \"Despite being poor and having a disability, this dad worked hard to send his kids to college! His son comes back to honor him after learning he passed his course...\\nIsn't this wonderful?\", 'like': 38367, 'love': 5405, 'wow': 787, 'haha': 28, 'sad': 1345, 'angry': 6, 'thankful': 0, 'total_reacts': 45938, 'comments': 456, 'shares': 4680, 'id': '106259116938_10154602645651939', 'page_id': 'i.am.filipino'}\n"
     ]
    }
   ],
   "source": [
    "print(data[2])"
   ]
  },
  {
   "cell_type": "code",
   "execution_count": 28,
   "metadata": {
    "scrolled": true
   },
   "outputs": [
    {
     "data": {
      "text/plain": [
       "18399.25"
      ]
     },
     "execution_count": 28,
     "metadata": {},
     "output_type": "execute_result"
    }
   ],
   "source": [
    "calculate_weight_score(data[2])"
   ]
  },
  {
   "cell_type": "code",
   "execution_count": 29,
   "metadata": {},
   "outputs": [
    {
     "name": "stdout",
     "output_type": "stream",
     "text": [
      "{'name': 'Yaya Graduates Cum Laude from College, Walks Stage with Her Proud Alaga While Boss Takes Pictures', 'created_time': '2017-05-27T08:22:36+0000', 'message': \"Her alaga is so proud of what she has achieved that he (now grown up) accompanied her on stage to receive her diploma and cum laude award... Isn't this sweet? \\n\\nCongratulations!\", 'like': 40147, 'love': 4296, 'wow': 3015, 'haha': 30, 'sad': 10, 'angry': 1, 'thankful': 1, 'total_reacts': 47500, 'comments': 287, 'shares': 2737, 'id': '106259116938_10154878952046939', 'page_id': 'i.am.filipino'}\n"
     ]
    }
   ],
   "source": [
    "print(data[3])"
   ]
  },
  {
   "cell_type": "code",
   "execution_count": 30,
   "metadata": {
    "scrolled": true
   },
   "outputs": [
    {
     "data": {
      "text/plain": [
       "16665.5"
      ]
     },
     "execution_count": 30,
     "metadata": {},
     "output_type": "execute_result"
    }
   ],
   "source": [
    "calculate_weight_score(data[3])"
   ]
  },
  {
   "cell_type": "code",
   "execution_count": 31,
   "metadata": {},
   "outputs": [
    {
     "name": "stdout",
     "output_type": "stream",
     "text": [
      "{'name': 'Proud Son Posts Photos of Dad’s Handwritten Engineering Thesis from the 1980s', 'created_time': '2017-09-24T00:10:33+0000', 'message': \"Can you imagine writing your thesis or some other important book by hand? This student's handwritten thesis is definitely impressive!\", 'like': 21620, 'love': 1381, 'wow': 4110, 'haha': 46, 'sad': 13, 'angry': 0, 'thankful': 0, 'total_reacts': 27174, 'comments': 645, 'shares': 1886, 'id': '106259116938_10155264758981939', 'page_id': 'i.am.filipino'}\n"
     ]
    }
   ],
   "source": [
    "print(data[4])"
   ]
  },
  {
   "cell_type": "code",
   "execution_count": 32,
   "metadata": {
    "scrolled": true
   },
   "outputs": [
    {
     "data": {
      "text/plain": [
       "10551.75"
      ]
     },
     "execution_count": 32,
     "metadata": {},
     "output_type": "execute_result"
    }
   ],
   "source": [
    "calculate_weight_score(data[4])"
   ]
  },
  {
   "cell_type": "code",
   "execution_count": 33,
   "metadata": {},
   "outputs": [
    {
     "name": "stdout",
     "output_type": "stream",
     "text": [
      "{'name': 'Diligent Security Guard, Still on Duty Hours before He Graduates ‘Cum Laude’ from School He Guards', 'created_time': '2017-03-25T04:54:34+0000', 'message': \"Learn more about the inspiring story of this hardworking security guard who never missed a day at work (or school) and who had his own kids as study buddies on the way to graduating as cum laude...\\nIsn't he inspiring?\", 'like': 29366, 'love': 1957, 'wow': 1623, 'haha': 15, 'sad': 4, 'angry': 1, 'thankful': 0, 'total_reacts': 32966, 'comments': 240, 'shares': 1169, 'id': '106259116938_10154684004761939', 'page_id': 'i.am.filipino'}\n"
     ]
    }
   ],
   "source": [
    "print(data[5])"
   ]
  },
  {
   "cell_type": "code",
   "execution_count": 34,
   "metadata": {
    "scrolled": true
   },
   "outputs": [
    {
     "data": {
      "text/plain": [
       "10490.5"
      ]
     },
     "execution_count": 34,
     "metadata": {},
     "output_type": "execute_result"
    }
   ],
   "source": [
    "calculate_weight_score(data[5])"
   ]
  },
  {
   "cell_type": "code",
   "execution_count": 35,
   "metadata": {},
   "outputs": [],
   "source": [
    "with open('data_sorted_weighted.json', 'w') as f:\n",
    "    json.dump(data, f)  "
   ]
  }
 ],
 "metadata": {
  "kernelspec": {
   "display_name": "Python 3",
   "language": "python",
   "name": "python3"
  },
  "language_info": {
   "codemirror_mode": {
    "name": "ipython",
    "version": 3
   },
   "file_extension": ".py",
   "mimetype": "text/x-python",
   "name": "python",
   "nbconvert_exporter": "python",
   "pygments_lexer": "ipython3",
   "version": "3.6.2"
  }
 },
 "nbformat": 4,
 "nbformat_minor": 2
}
