{
 "cells": [
  {
   "cell_type": "code",
   "execution_count": 1,
   "metadata": {},
   "outputs": [],
   "source": [
    "import json\n",
    "import re"
   ]
  },
  {
   "cell_type": "code",
   "execution_count": 2,
   "metadata": {},
   "outputs": [],
   "source": [
    "with open('data.json') as json_data:\n",
    "    data = json.load(json_data)"
   ]
  },
  {
   "cell_type": "code",
   "execution_count": 16,
   "metadata": {},
   "outputs": [],
   "source": [
    "ClassifiedTrends = {}\n",
    "IAmFilipino = {}\n",
    "DuterteNewsInfo = {}\n",
    "FilipiNewsPH = {}\n",
    "Benigno = {}\n",
    "NetizenPHOfficial = {}\n",
    "Okd2Ads = {}\n",
    "PinoyViralNewsPH = {}\n",
    "PinoyWorld = {}\n",
    "PublicTrendingOfficial = {}\n",
    "TheVolatilian = {}"
   ]
  },
  {
   "cell_type": "code",
   "execution_count": 17,
   "metadata": {},
   "outputs": [],
   "source": [
    "counter = 0\n",
    "for i in data:\n",
    "    page = i['page_id']\n",
    "    if(page == 'ClassifiedTrends'):\n",
    "        ClassifiedTrends[counter] = data[counter]\n",
    "    elif(page == 'i.am.filipino'):\n",
    "        IAmFilipino[counter] = data[counter]\n",
    "    elif(page == 'Dutertenewsinfo'):\n",
    "        DuterteNewsInfo[counter] = data[counter]\n",
    "    elif(page == 'FilipiNewsPH'):\n",
    "        FilipiNewsPH[counter] = data[counter]\n",
    "    elif(page == 'benign0'):\n",
    "        Benigno[counter] = data[counter]\n",
    "    elif(page == 'NetizenPHOfficial'):\n",
    "        NetizenPHOfficial[counter]= data[counter]\n",
    "    elif(page == 'okd2ads'):\n",
    "        Okd2Ads[counter] = data[counter]\n",
    "    elif(page == 'pinoyviralnewsph'):\n",
    "        PinoyViralNewsPH[counter] = data[counter]\n",
    "    elif(page == 'PinoyWorld.co'):\n",
    "        PinoyWorld[counter] = data[counter]\n",
    "    elif(page == 'PublicTrendingOfficial'):\n",
    "        PublicTrendingOfficial[counter] = data[counter]\n",
    "    elif(page == 'TheVolatilian'):\n",
    "        TheVolatilian[counter] = data[counter]\n",
    "        \n",
    "    counter += 1"
   ]
  },
  {
   "cell_type": "code",
   "execution_count": 32,
   "metadata": {},
   "outputs": [],
   "source": [
    "with open('data.js', 'w') as f:\n",
    "    f.write (\"var ClassifiedTrends = \")\n",
    "    json.dump(ClassifiedTrends, f)\n",
    "    f.write(\";\\nvar IAmFilipino = \")\n",
    "    json.dump(IAmFilipino, f)\n",
    "    f.write(\";\\nvar DuterteNewsInfo= \")\n",
    "    json.dump(DuterteNewsInfo, f)\n",
    "    f.write(\";\\nvar FilipiNewsPH = \")\n",
    "    json.dump(FilipiNewsPH, f) \n",
    "    f.write(\";\\nvar Benigno = \")\n",
    "    json.dump(Benigno, f)\n",
    "    f.write(\";\\nvar NetizenPHOfficial = \")\n",
    "    json.dump(NetizenPHOfficial, f)\n",
    "    f.write(\";\\nvar Okd2Ads = \")\n",
    "    json.dump(Okd2Ads, f)\n",
    "    f.write(\";\\nvar PinoyViralNewsPH = \")\n",
    "    json.dump(PinoyViralNewsPH, f)\n",
    "    f.write(\";\\nvar PinoyWorld = \")\n",
    "    json.dump(PinoyWorld, f)\n",
    "    f.write(\";\\nvar PublicTrendingOfficial = \")\n",
    "    json.dump(PublicTrendingOfficial, f)  \n",
    "    f.write(\";\\nvar TheVolatilian = \")\n",
    "    json.dump(TheVolatilian, f)  \n",
    "    f.write(\";\")\n"
   ]
  }
 ],
 "metadata": {
  "kernelspec": {
   "display_name": "Python 3",
   "language": "python",
   "name": "python3"
  },
  "language_info": {
   "codemirror_mode": {
    "name": "ipython",
    "version": 3
   },
   "file_extension": ".py",
   "mimetype": "text/x-python",
   "name": "python",
   "nbconvert_exporter": "python",
   "pygments_lexer": "ipython3",
   "version": "3.6.2"
  }
 },
 "nbformat": 4,
 "nbformat_minor": 2
}
