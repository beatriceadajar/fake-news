{
 "cells": [
  {
   "cell_type": "markdown",
   "metadata": {},
   "source": [
    "# Generating the data for the graph"
   ]
  },
  {
   "cell_type": "markdown",
   "metadata": {},
   "source": [
    "Load data from file:"
   ]
  },
  {
   "cell_type": "code",
   "execution_count": 1,
   "metadata": {},
   "outputs": [],
   "source": [
    "import json\n",
    "bows = []\n",
    "with open('bows.json') as f:\n",
    "    bows = json.load(f)"
   ]
  },
  {
   "cell_type": "code",
   "execution_count": 2,
   "metadata": {},
   "outputs": [
    {
     "name": "stdout",
     "output_type": "stream",
     "text": [
      "['mall', 'sobrang', 'gaisano', 'panoorin', 'nakakaawa', 'ito', 'sapit', 'batang', 'ipit', 'liwa', 'kamay', 'escalatod', 'buo', 'yari']\n"
     ]
    }
   ],
   "source": [
    "print(bows[0])"
   ]
  },
  {
   "cell_type": "markdown",
   "metadata": {},
   "source": [
    "Using freq.txt, I manually choose the top 10 words. \n",
    "<li>Removed the words that counted as stop words that preprocess failed to remove</li>\n",
    "<li>Joined words that fall into the same category</li>"
   ]
  },
  {
   "cell_type": "code",
   "execution_count": 3,
   "metadata": {},
   "outputs": [],
   "source": [
    "word_list = [['people'], ['alamin'], ['medium'], ['share'], ['country'], ['illegal'], ['jueteng'], ['drug'], ['pilipinas','philippines', 'philippine'],  ['duterte', 'president', 'rodrigo']]\n",
    "word_count = [0 for i in range(0, 10)]"
   ]
  },
  {
   "cell_type": "markdown",
   "metadata": {},
   "source": [
    "For each word/category count the number of messages it appears in."
   ]
  },
  {
   "cell_type": "code",
   "execution_count": 4,
   "metadata": {},
   "outputs": [],
   "source": [
    "for bow in bows:\n",
    "    for i in range(0, len(word_list)):\n",
    "        for word in word_list[i]:\n",
    "            if word in bow:\n",
    "                word_count[i] += 1"
   ]
  },
  {
   "cell_type": "code",
   "execution_count": 5,
   "metadata": {},
   "outputs": [
    {
     "name": "stdout",
     "output_type": "stream",
     "text": [
      "[108, 176, 101, 170, 132, 34, 7, 81, 485, 705]\n"
     ]
    }
   ],
   "source": [
    "print(word_count)"
   ]
  },
  {
   "cell_type": "code",
   "execution_count": 6,
   "metadata": {},
   "outputs": [
    {
     "name": "stdout",
     "output_type": "stream",
     "text": [
      "2457\n"
     ]
    }
   ],
   "source": [
    "print(len(bows))"
   ]
  }
 ],
 "metadata": {
  "kernelspec": {
   "display_name": "Python 3",
   "language": "python",
   "name": "python3"
  },
  "language_info": {
   "codemirror_mode": {
    "name": "ipython",
    "version": 3
   },
   "file_extension": ".py",
   "mimetype": "text/x-python",
   "name": "python",
   "nbconvert_exporter": "python",
   "pygments_lexer": "ipython3",
   "version": "3.6.2"
  }
 },
 "nbformat": 4,
 "nbformat_minor": 2
}
